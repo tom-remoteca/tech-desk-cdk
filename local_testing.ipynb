{
 "cells": [
  {
   "cell_type": "code",
   "execution_count": 2,
   "metadata": {},
   "outputs": [],
   "source": [
    "import boto3\n",
    "import uuid\n",
    "from boto3.dynamodb.conditions import Key\n",
    "\n",
    "# For a Boto3 client.\n",
    "ddb = boto3.resource('dynamodb',\n",
    "                          aws_access_key_id=\"anything\",\n",
    "                          aws_secret_access_key=\"anything\", endpoint_url='http://localhost:8000')\n",
    "\n",
    "table = ddb.Table('table')\n"
   ]
  },
  {
   "cell_type": "code",
   "execution_count": 7,
   "metadata": {},
   "outputs": [],
   "source": [
    "# table = ddb.create_table(\n",
    "#     TableName='table',  # replace with your table name\n",
    "#     KeySchema=[\n",
    "#         {\n",
    "#             'AttributeName': 'PK',  # primary key attribute name\n",
    "#             'KeyType': 'HASH'  # primary key type\n",
    "#         },\n",
    "#         {\n",
    "#             'AttributeName': 'SK',  # sort key attribute name\n",
    "#             'KeyType': 'RANGE'  # sort key type\n",
    "#         }\n",
    "#     ],\n",
    "#     AttributeDefinitions=[\n",
    "#         {\n",
    "#             'AttributeName': 'PK',  # primary key attribute name\n",
    "#             'AttributeType': 'S'  # 'S' for string\n",
    "#         },\n",
    "#         {\n",
    "#             'AttributeName': 'SK',  # sort key attribute name\n",
    "#             'AttributeType': 'S'  # 'S' for string\n",
    "#         },\n",
    "#     ],\n",
    "#     ProvisionedThroughput={\n",
    "#         'ReadCapacityUnits': 5,  # replace with your read capacity units\n",
    "#         'WriteCapacityUnits': 5  # replace with your write capacity units\n",
    "#     }\n",
    "# )"
   ]
  },
  {
   "cell_type": "code",
   "execution_count": 26,
   "metadata": {},
   "outputs": [
    {
     "data": {
      "text/plain": [
       "{'id': 'company_2598dce3-08f4-4c92-93b4-17c36844c91b', 'name': 'New Company'}"
      ]
     },
     "execution_count": 26,
     "metadata": {},
     "output_type": "execute_result"
    }
   ],
   "source": [
    "\n",
    "#create_company\n",
    "def create_company():\n",
    "    company_id = f\"company_{str(uuid.uuid4())}\"\n",
    "    company = {\n",
    "                \"id\": company_id,\n",
    "                \"name\": \"New Company\"\n",
    "            }\n",
    "    res = table.put_item(\n",
    "        Item={\n",
    "            'PK': f\"COMPANY\",\n",
    "            'SK': f\"COMPANY#{company_id}\",\n",
    "            'company': company\n",
    "        }\n",
    "    )\n",
    "    return company\n",
    "create_company()"
   ]
  },
  {
   "cell_type": "code",
   "execution_count": 3,
   "metadata": {},
   "outputs": [
    {
     "data": {
      "text/plain": [
       "[{'name': 'New Company', 'id': 'company_2598dce3-08f4-4c92-93b4-17c36844c91b'},\n",
       " {'name': 'lemon corp', 'id': 'company_5129f337-105a-41b1-ba8b-0bc6c4fcd508'},\n",
       " {'name': 'lemon corp', 'id': 'company_b7356a30-9c49-40d1-a60a-aafc34e6313c'}]"
      ]
     },
     "execution_count": 3,
     "metadata": {},
     "output_type": "execute_result"
    }
   ],
   "source": [
    "def get_all_companies():\n",
    "    res = table.query(\n",
    "        KeyConditionExpression=Key('PK').eq('COMPANY') & Key('SK').begins_with('COMPANY#')\n",
    "    )\n",
    "    return [i['company'] for i in res.get('Items', [])]\n",
    "get_all_companies()"
   ]
  },
  {
   "cell_type": "code",
   "execution_count": 40,
   "metadata": {},
   "outputs": [
    {
     "data": {
      "text/plain": [
       "{'name': 'asdfasdf',\n",
       " 'email': '333@gmail.com',\n",
       " 'id': 'user_4e9a802f-4265-4bc7-a707-af09f3009117',\n",
       " 'company_id': 'company_2598dce3-08f4-4c92-93b4-17c36844c91b'}"
      ]
     },
     "execution_count": 40,
     "metadata": {},
     "output_type": "execute_result"
    }
   ],
   "source": [
    "company_id = \"company_2598dce3-08f4-4c92-93b4-17c36844c91b\"\n",
    "user_data = {\n",
    "    \"name\":\"asdfasdf\",\n",
    "    \"email\": \"333@gmail.com\"\n",
    "}\n",
    "\n",
    "def create_user(company_id, user_data):\n",
    "    user_id = f\"user_{str(uuid.uuid4())}\"\n",
    "    user_data['id'] = user_id\n",
    "    user_data['company_id'] = company_id\n",
    "    res = table.put_item(\n",
    "        Item={\n",
    "            'PK': f\"COMPANY#{company_id}\",\n",
    "            'SK': f\"USER#{user_id}\",\n",
    "            'user': user_data\n",
    "        }\n",
    "    )\n",
    "    return user_data\n",
    "create_user(company_id, user_data) "
   ]
  },
  {
   "cell_type": "code",
   "execution_count": 4,
   "metadata": {},
   "outputs": [
    {
     "data": {
      "text/plain": [
       "{'name': 'asdfasdf',\n",
       " 'id': 'user_4e9a802f-4265-4bc7-a707-af09f3009117',\n",
       " 'company_id': 'company_2598dce3-08f4-4c92-93b4-17c36844c91b',\n",
       " 'email': '333@gmail.com'}"
      ]
     },
     "execution_count": 4,
     "metadata": {},
     "output_type": "execute_result"
    }
   ],
   "source": [
    "COMPANY_ID = \"company_2598dce3-08f4-4c92-93b4-17c36844c91b\"\n",
    "USER_ID = \"user_4e9a802f-4265-4bc7-a707-af09f3009117\"\n",
    "def get_user(company_id, user_id):\n",
    "    response = table.get_item(\n",
    "        Key={\n",
    "            'PK': f\"COMPANY#{company_id}\",\n",
    "            'SK': f\"USER#{user_id}\",\n",
    "        }\n",
    "    )\n",
    "    user_data = response.get('Item', {}).get('user')\n",
    "    return user_data\n",
    "get_user(COMPANY_ID, USER_ID)"
   ]
  },
  {
   "cell_type": "code",
   "execution_count": 10,
   "metadata": {},
   "outputs": [
    {
     "data": {
      "text/plain": [
       "{'ResponseMetadata': {'RequestId': '0c944560-2303-4050-9f21-bfeb64b04b61',\n",
       "  'HTTPStatusCode': 200,\n",
       "  'HTTPHeaders': {'date': 'Fri, 07 Jul 2023 21:22:45 GMT',\n",
       "   'x-amzn-requestid': '0c944560-2303-4050-9f21-bfeb64b04b61',\n",
       "   'content-type': 'application/x-amz-json-1.0',\n",
       "   'x-amz-crc32': '2745614147',\n",
       "   'content-length': '2',\n",
       "   'server': 'Jetty(9.4.48.v20220622)'},\n",
       "  'RetryAttempts': 0}}"
      ]
     },
     "execution_count": 10,
     "metadata": {},
     "output_type": "execute_result"
    }
   ],
   "source": [
    "def delete_user(company_id, user_id):\n",
    "    response = table.delete_item(\n",
    "        Key={\n",
    "            'PK': f\"COMPANY#{company_id}\",\n",
    "            'SK': f\"USER#{user_id}\"\n",
    "        }\n",
    "    )\n",
    "    return response\n",
    "delete_user(COMPANY_ID, \"user_60f94b9a-5982-4689-92ad-1c91f5e5ee65\")"
   ]
  },
  {
   "cell_type": "code",
   "execution_count": 7,
   "metadata": {},
   "outputs": [
    {
     "data": {
      "text/plain": [
       "[{'name': 'tom',\n",
       "  'email': '2@gmail.com',\n",
       "  'id': 'user_4cd6cd3f-2962-4a9e-9cca-975a2d9fba2a'},\n",
       " {'name': 'asdfasdf',\n",
       "  'id': 'user_4e9a802f-4265-4bc7-a707-af09f3009117',\n",
       "  'company_id': 'company_2598dce3-08f4-4c92-93b4-17c36844c91b',\n",
       "  'email': '333@gmail.com'}]"
      ]
     },
     "execution_count": 7,
     "metadata": {},
     "output_type": "execute_result"
    }
   ],
   "source": [
    "def get_all_users(company_id):\n",
    "    res = table.query(\n",
    "        KeyConditionExpression=Key('PK').eq(f\"COMPANY#{company_id}\") & Key('SK').begins_with(\"USER#\")\n",
    "    )\n",
    "    return [i['user'] for i in res.get('Items', [])]\n",
    "\n",
    "get_all_users('company_2598dce3-08f4-4c92-93b4-17c36844c91b')"
   ]
  },
  {
   "cell_type": "code",
   "execution_count": 33,
   "metadata": {},
   "outputs": [
    {
     "data": {
      "text/plain": [
       "{'MEO': True,\n",
       " 'summary': '152423',\n",
       " 'details': '213451234',\n",
       " 'id': 'query_45748250-dab2-4552-ba7f-f8658fc477e1',\n",
       " 'company_id': 'company_2598dce3-08f4-4c92-93b4-17c36844c91b'}"
      ]
     },
     "execution_count": 33,
     "metadata": {},
     "output_type": "execute_result"
    }
   ],
   "source": [
    "query_data = {\n",
    "    \"MEO\": True,\n",
    "    \"summary\": \"152423\",\n",
    "    \"details\": \"213451234\"\n",
    "}\n",
    "\n",
    "def create_query(company_id, user_id, query):\n",
    "    query_id = f\"query_{str(uuid.uuid4())}\"\n",
    "    if query['MEO']:\n",
    "        sk = f\"MEO#{user_id}#QUERY#{query_id}\"\n",
    "    else:\n",
    "        sk = f\"MEO#FALSE#QUERY#{query_id}\"\n",
    "    \n",
    "    query['id'] = query_id\n",
    "    query['company_id'] = company_id\n",
    "    res = table.put_item(\n",
    "        Item={\n",
    "            'PK': f\"COMPANY#{company_id}#QUERY\",\n",
    "            'SK': sk,\n",
    "            'query': query\n",
    "        }\n",
    "    )\n",
    "    return query\n",
    "    \n",
    "\n",
    "create_query(COMPANY_ID, \"user_4cd6cd3f-2962-4a9e-9cca-975a2d9fba2a\", query_data)"
   ]
  },
  {
   "cell_type": "code",
   "execution_count": 9,
   "metadata": {},
   "outputs": [
    {
     "data": {
      "text/plain": [
       "[{'summary': '152423',\n",
       "  'details': '213451234',\n",
       "  'id': 'query_6d66a543-4205-438c-b0d9-08f08fcf13dc',\n",
       "  'company_id': 'company_2598dce3-08f4-4c92-93b4-17c36844c91b',\n",
       "  'MEO': False},\n",
       " {'summary': 'tqwerfdf',\n",
       "  'details': 'asdads',\n",
       "  'id': 'query_f888990e-1606-410f-aeb7-85262fef7d5e',\n",
       "  'company_id': 'company_2598dce3-08f4-4c92-93b4-17c36844c91b',\n",
       "  'MEO': False}]"
      ]
     },
     "execution_count": 9,
     "metadata": {},
     "output_type": "execute_result"
    }
   ],
   "source": [
    "def get_all_queries(company_id, user_id):\n",
    "    res = table.query(\n",
    "        KeyConditionExpression=Key('PK').eq(f\"COMPANY#{company_id}#QUERY\") & Key('SK').begins_with(f\"MEO#{user_id}#QUERY#\")\n",
    "    )\n",
    "    queries = res.get(\"Items\", [])\n",
    "    res = table.query(\n",
    "        KeyConditionExpression=Key('PK').eq(f\"COMPANY#{company_id}#QUERY\") & Key('SK').begins_with(f\"MEO#FALSE#QUERY#\")\n",
    "    )\n",
    "    queries.append(res.get(\"Items\", []))\n",
    "    return [i['query'] for i in res.get('Items', [])]\n",
    "get_all_queries(COMPANY_ID, USER_ID)"
   ]
  },
  {
   "cell_type": "code",
   "execution_count": 21,
   "metadata": {},
   "outputs": [
    {
     "data": {
      "text/plain": [
       "{'summary': 'tqwerfdf',\n",
       " 'details': 'UPDATED',\n",
       " 'id': 'query_f888990e-1606-410f-aeb7-85262fef7d5e',\n",
       " 'company_id': 'company_2598dce3-08f4-4c92-93b4-17c36844c91b',\n",
       " 'MEO': False}"
      ]
     },
     "execution_count": 21,
     "metadata": {},
     "output_type": "execute_result"
    }
   ],
   "source": [
    "QUERY_ID = \"query_f888990e-1606-410f-aeb7-85262fef7d5e\"\n",
    "QUERY_MEO = \"query_336f1577-53e6-44c5-9e08-57eafe4edcfa\"\n",
    "def get_query(company_id, user_id, query_id):\n",
    "    res = table.get_item(\n",
    "        Key={\n",
    "            'PK': f\"COMPANY#{company_id}#QUERY\",\n",
    "            'SK': f\"MEO#FALSE#QUERY#{query_id}\",\n",
    "        }\n",
    "    )\n",
    "    if res.get(\"Item\"):\n",
    "        return res['Item']['query']\n",
    "    res = table.get_item(\n",
    "        Key={\n",
    "            'PK': f\"COMPANY#{company_id}#QUERY\",\n",
    "            'SK': f\"MEO#{user_id}#QUERY#{query_id}\",\n",
    "        }\n",
    "    )\n",
    "    if res.get(\"Item\"):\n",
    "        return res['Item']['query']\n",
    "    \n",
    "get_query(COMPANY_ID, USER_ID, QUERY_ID)"
   ]
  },
  {
   "cell_type": "code",
   "execution_count": 20,
   "metadata": {},
   "outputs": [
    {
     "data": {
      "text/plain": [
       "{'summary': 'tqwerfdf',\n",
       " 'details': 'UPDATED',\n",
       " 'id': 'query_f888990e-1606-410f-aeb7-85262fef7d5e',\n",
       " 'company_id': 'company_2598dce3-08f4-4c92-93b4-17c36844c91b',\n",
       " 'MEO': False}"
      ]
     },
     "execution_count": 20,
     "metadata": {},
     "output_type": "execute_result"
    }
   ],
   "source": [
    "def update_query(company_id, user_id, query_id, query):\n",
    "    if query['MEO']:\n",
    "        sk = f\"MEO#{user_id}#QUERY#{query_id}\"\n",
    "    else:\n",
    "        sk = f\"MEO#FALSE#QUERY#{query_id}\"\n",
    "    res = table.put_item(\n",
    "        Item={\n",
    "            'PK': f\"COMPANY#{company_id}#QUERY\",\n",
    "            'SK': sk,\n",
    "            'query': query\n",
    "        }\n",
    "    )\n",
    "    return query\n",
    "\n",
    "new_query = {'summary': 'tqwerfdf',\n",
    " 'details': 'UPDATED',\n",
    " 'id': 'query_f888990e-1606-410f-aeb7-85262fef7d5e',\n",
    " 'company_id': 'company_2598dce3-08f4-4c92-93b4-17c36844c91b',\n",
    " 'MEO': False}\n",
    "\n",
    "update_query(COMPANY_ID, USER_ID, QUERY_ID, new_query)"
   ]
  },
  {
   "cell_type": "code",
   "execution_count": 26,
   "metadata": {},
   "outputs": [
    {
     "data": {
      "text/plain": [
       "{'type': 'comment',\n",
       " 'comment': 'asdfawf',\n",
       " 'from': '31dff',\n",
       " 'id': 'activity_01H4TS4Q72GPX414SFXD37X38Z',\n",
       " 'query_id': 'query_f888990e-1606-410f-aeb7-85262fef7d5e'}"
      ]
     },
     "execution_count": 26,
     "metadata": {},
     "output_type": "execute_result"
    }
   ],
   "source": [
    "activity_1 = {\"type\": \"comment\", \"comment\":\"lemons\", \"from\": \"jeff\"}\n",
    "activity_2 = {\"type\": \"comment\", \"comment\":\"asdfawf\", \"from\": \"31dff\"}\n",
    "import ulid\n",
    "\n",
    "def create_query_activity(query_id, activity):\n",
    "    activity_id = f\"activity_{str(ulid.new())}\"\n",
    "    \n",
    "    activity['id'] = activity_id\n",
    "    activity['query_id'] = query_id\n",
    "    \n",
    "    res = table.put_item(\n",
    "        Item={\n",
    "            'PK': f\"QUERY#{query_id}\",\n",
    "            'SK': f\"ACTIVITY#{activity_id}\",\n",
    "            'activity': activity\n",
    "        }\n",
    "    )\n",
    "    return activity\n",
    "\n",
    "create_query_activity(QUERY_ID, activity_2)"
   ]
  },
  {
   "cell_type": "code",
   "execution_count": 30,
   "metadata": {},
   "outputs": [
    {
     "data": {
      "text/plain": [
       "[{'comment': 'lemons',\n",
       "  'from': 'jeff',\n",
       "  'id': 'activity_01H4TQ69N7M2342MMGKNBCTSTN',\n",
       "  'type': 'comment',\n",
       "  'query_id': 'query_f888990e-1606-410f-aeb7-85262fef7d5e'},\n",
       " {'comment': 'lemons',\n",
       "  'from': 'jeff',\n",
       "  'id': 'activity_01H4TQ6R36QC3H28S1DAYWQ5Q7',\n",
       "  'type': 'comment',\n",
       "  'query_id': 'query_f888990e-1606-410f-aeb7-85262fef7d5e'},\n",
       " {'comment': 'asdfawf',\n",
       "  'from': '31dff',\n",
       "  'id': 'activity_01H4TQ7569HGXKRP6F8149D8SG',\n",
       "  'type': 'comment',\n",
       "  'query_id': 'query_f888990e-1606-410f-aeb7-85262fef7d5e'},\n",
       " {'comment': 'asdfawf',\n",
       "  'from': '31dff',\n",
       "  'id': 'activity_01H4TS4Q72GPX414SFXD37X38Z',\n",
       "  'type': 'comment',\n",
       "  'query_id': 'query_f888990e-1606-410f-aeb7-85262fef7d5e'}]"
      ]
     },
     "execution_count": 30,
     "metadata": {},
     "output_type": "execute_result"
    }
   ],
   "source": [
    "def get_activity(query_id):\n",
    "    res = table.query(\n",
    "        KeyConditionExpression=Key('PK').eq(f\"QUERY#{query_id}\") & Key('SK').begins_with(f\"ACTIVITY#\")\n",
    "    )\n",
    "    return [i['activity'] for i in res.get('Items', [])]\n",
    "get_activity(QUERY_ID)\n",
    "    \n",
    "    "
   ]
  }
 ],
 "metadata": {
  "kernelspec": {
   "display_name": ".venv",
   "language": "python",
   "name": "python3"
  },
  "language_info": {
   "codemirror_mode": {
    "name": "ipython",
    "version": 3
   },
   "file_extension": ".py",
   "mimetype": "text/x-python",
   "name": "python",
   "nbconvert_exporter": "python",
   "pygments_lexer": "ipython3",
   "version": "3.10.8"
  },
  "orig_nbformat": 4
 },
 "nbformat": 4,
 "nbformat_minor": 2
}
