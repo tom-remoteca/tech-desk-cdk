{
 "cells": [
  {
   "cell_type": "code",
   "execution_count": 2,
   "metadata": {},
   "outputs": [],
   "source": [
    "import boto3\n",
    "import time\n",
    "import uuid\n",
    "from boto3.dynamodb.conditions import Key\n",
    "\n",
    "# For a Boto3 client.\n",
    "boto3.setup_default_session(profile_name='td-prod')\n",
    "\n",
    "dynamodb = boto3.resource(\"dynamodb\")\n",
    "table = dynamodb.Table('CoreStack-CoreTable97EB8292-OSGHIVMEFPBR')\n"
   ]
  },
  {
   "cell_type": "code",
   "execution_count": 26,
   "metadata": {},
   "outputs": [
    {
     "data": {
      "text/plain": [
       "{'id': 'company_2598dce3-08f4-4c92-93b4-17c36844c91b', 'name': 'New Company'}"
      ]
     },
     "execution_count": 26,
     "metadata": {},
     "output_type": "execute_result"
    }
   ],
   "source": [
    "\n",
    "def create_company(company_name):\n",
    "    company_id = f\"company_{str(uuid.uuid4())}\"\n",
    "    company_details = {\n",
    "                \"id\": company_id,\n",
    "                \"name\": company_name\n",
    "            }\n",
    "    res = table.put_item(\n",
    "        Item={\n",
    "            'PK': f\"COMPANY#{company_id}\",\n",
    "            'SK': f\"COMPANY#{company_id}\",\n",
    "            'GSI1PK': \"COMPANY\",\n",
    "            'GSI1SK':  f\"COMPANY#{company_id}\",\n",
    "             **company_details\n",
    "        }\n",
    "    )\n",
    "    return res\n",
    "create_company()"
   ]
  },
  {
   "cell_type": "code",
   "execution_count": 3,
   "metadata": {},
   "outputs": [
    {
     "data": {
      "text/plain": [
       "[{'name': 'New Company', 'id': 'company_2598dce3-08f4-4c92-93b4-17c36844c91b'},\n",
       " {'name': 'lemon corp', 'id': 'company_5129f337-105a-41b1-ba8b-0bc6c4fcd508'},\n",
       " {'name': 'lemon corp', 'id': 'company_b7356a30-9c49-40d1-a60a-aafc34e6313c'}]"
      ]
     },
     "execution_count": 3,
     "metadata": {},
     "output_type": "execute_result"
    }
   ],
   "source": [
    "def get_all_companies():\n",
    "    res = table.query(\n",
    "        IndexName=\"GSI1\",\n",
    "        KeyConditionExpression=Key('PK').eq('COMPANY') & Key('SK').begins_with('COMPANY#')\n",
    "    )\n",
    "    return [i['company'] for i in res.get('Items', [])]\n",
    "get_all_companies()"
   ]
  }
 ],
 "metadata": {
  "kernelspec": {
   "display_name": ".venv",
   "language": "python",
   "name": "python3"
  },
  "language_info": {
   "codemirror_mode": {
    "name": "ipython",
    "version": 3
   },
   "file_extension": ".py",
   "mimetype": "text/x-python",
   "name": "python",
   "nbconvert_exporter": "python",
   "pygments_lexer": "ipython3",
   "version": "3.10.8"
  },
  "orig_nbformat": 4
 },
 "nbformat": 4,
 "nbformat_minor": 2
}
