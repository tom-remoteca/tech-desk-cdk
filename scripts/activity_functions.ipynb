{
 "cells": [
  {
   "cell_type": "code",
   "execution_count": 9,
   "metadata": {},
   "outputs": [],
   "source": [
    "import boto3\n",
    "import time\n",
    "import uuid\n",
    "from boto3.dynamodb.conditions import Key\n",
    "\n",
    "# For a Boto3 client.\n",
    "boto3.setup_default_session(profile_name='td-prod')\n",
    "\n",
    "dynamodb = boto3.resource(\"dynamodb\")\n",
    "table = dynamodb.Table('CoreStack-CoreTable97EB8292-OSGHIVMEFPBR')\n"
   ]
  },
  {
   "cell_type": "code",
   "execution_count": 5,
   "metadata": {},
   "outputs": [],
   "source": [
    "# tom-remoteca user_id \n",
    "toms_id = \"b5af90ee-bf35-4a66-a4ed-9ee7ee0591e6\"\n",
    "company_id = \"company_exampleid1234567\"\n",
    "example_query = {\n",
    "    \"summary\": \"adfasdfa\",\n",
    "    \"date_submitted\": \"1692922541\",\n",
    "    \"attachments\": [],\n",
    "    \"query_id\": \"query_9c89aa70-888d-4280-b670-db96c7303a8e\",\n",
    "    \"submittor_email\": \"tom@remoteca.co.uk\",\n",
    "    \"company_id\": \"company_exampleid1234567\",\n",
    "    \"usecase_tags\": [\n",
    "        \"IFRS 3 - Business Combinations\"\n",
    "    ],\n",
    "    \"jurisdiction\": \"asdf\",\n",
    "    \"query_status\": \"Submitted\",\n",
    "    \"query_title\": \"NotificationTestNewQ\",\n",
    "    \"advice_type\": \"Technical Accounting Advice\",\n",
    "    \"company_name\": \"Example Company\",\n",
    "    \"is_public\": \"false\",\n",
    "    \"id\": \"query_9c89aa70-888d-4280-b670-db96c7303a8e\",\n",
    "    \"submittor_id\": \"b5af90ee-bf35-4a66-a4ed-9ee7ee0591e6\"\n",
    "}"
   ]
  },
  {
   "cell_type": "code",
   "execution_count": 10,
   "metadata": {},
   "outputs": [],
   "source": [
    "def create_notification(company_id, query, badge):\n",
    "    notification_id = f\"notification_{uuid.uuid4()}\"\n",
    "\n",
    "    primary_keys = {\n",
    "        \"PK\": f\"COMPANY#{company_id}#USER#{query['submittor_id']}\",\n",
    "        \"SK\": f\"NOTIFICATION#{notification_id}\",\n",
    "    }\n",
    "\n",
    "    notification = {\n",
    "        \"id\": notification_id,\n",
    "        \"is_public\": query['is_public'],\n",
    "        \"date\": int(time.time() * 1000),\n",
    "        \"badge\": badge,\n",
    "        \"query_title\": query['query_title'],\n",
    "        'query_id': query['id']\n",
    "    }\n",
    "\n",
    "    res = table.put_item(\n",
    "        Item={\n",
    "            **primary_keys,\n",
    "            \"notification\": notification\n",
    "        }\n",
    "    )\n",
    "    return notification"
   ]
  },
  {
   "cell_type": "code",
   "execution_count": 11,
   "metadata": {},
   "outputs": [
    {
     "data": {
      "text/plain": [
       "{'id': 'notification_b56f1b48-945c-4219-b1b4-bd3040398fb6',\n",
       " 'is_public': 'false',\n",
       " 'date': 1692923648828,\n",
       " 'badge': 'Ready to nibble',\n",
       " 'query_title': 'NotificationTestNewQ',\n",
       " 'query_id': 'query_9c89aa70-888d-4280-b670-db96c7303a8e'}"
      ]
     },
     "execution_count": 11,
     "metadata": {},
     "output_type": "execute_result"
    }
   ],
   "source": [
    "create_notification(company_id=company_id, query=example_query, badge=\"Ready to nibble\")"
   ]
  },
  {
   "cell_type": "code",
   "execution_count": 26,
   "metadata": {},
   "outputs": [
    {
     "data": {
      "text/plain": [
       "{'type': 'comment',\n",
       " 'comment': 'asdfawf',\n",
       " 'from': '31dff',\n",
       " 'id': 'activity_01H4TS4Q72GPX414SFXD37X38Z',\n",
       " 'query_id': 'query_f888990e-1606-410f-aeb7-85262fef7d5e'}"
      ]
     },
     "execution_count": 26,
     "metadata": {},
     "output_type": "execute_result"
    }
   ],
   "source": [
    "activity_1 = {\"type\": \"comment\", \"comment\":\"lemons\", \"from\": \"jeff\"}\n",
    "activity_2 = {\"type\": \"comment\", \"comment\":\"asdfawf\", \"from\": \"31dff\"}\n",
    "import ulid\n",
    "\n",
    "def create_query_activity(query_id, activity):\n",
    "    activity_id = f\"activity_{str(ulid.new())}\"\n",
    "    \n",
    "    activity['id'] = activity_id\n",
    "    activity['query_id'] = query_id\n",
    "    \n",
    "    res = table.put_item(\n",
    "        Item={\n",
    "            'PK': f\"QUERY#{query_id}\",\n",
    "            'SK': f\"ACTIVITY#{activity_id}\",\n",
    "            'activity': activity\n",
    "        }\n",
    "    )\n",
    "    return activity\n",
    "\n",
    "create_query_activity(QUERY_ID, activity_2)"
   ]
  },
  {
   "cell_type": "code",
   "execution_count": 30,
   "metadata": {},
   "outputs": [
    {
     "data": {
      "text/plain": [
       "[{'comment': 'lemons',\n",
       "  'from': 'jeff',\n",
       "  'id': 'activity_01H4TQ69N7M2342MMGKNBCTSTN',\n",
       "  'type': 'comment',\n",
       "  'query_id': 'query_f888990e-1606-410f-aeb7-85262fef7d5e'},\n",
       " {'comment': 'lemons',\n",
       "  'from': 'jeff',\n",
       "  'id': 'activity_01H4TQ6R36QC3H28S1DAYWQ5Q7',\n",
       "  'type': 'comment',\n",
       "  'query_id': 'query_f888990e-1606-410f-aeb7-85262fef7d5e'},\n",
       " {'comment': 'asdfawf',\n",
       "  'from': '31dff',\n",
       "  'id': 'activity_01H4TQ7569HGXKRP6F8149D8SG',\n",
       "  'type': 'comment',\n",
       "  'query_id': 'query_f888990e-1606-410f-aeb7-85262fef7d5e'},\n",
       " {'comment': 'asdfawf',\n",
       "  'from': '31dff',\n",
       "  'id': 'activity_01H4TS4Q72GPX414SFXD37X38Z',\n",
       "  'type': 'comment',\n",
       "  'query_id': 'query_f888990e-1606-410f-aeb7-85262fef7d5e'}]"
      ]
     },
     "execution_count": 30,
     "metadata": {},
     "output_type": "execute_result"
    }
   ],
   "source": [
    "def get_activity(query_id):\n",
    "    res = table.query(\n",
    "        KeyConditionExpression=Key('PK').eq(f\"QUERY#{query_id}\") & Key('SK').begins_with(f\"ACTIVITY#\")\n",
    "    )\n",
    "    return [i['activity'] for i in res.get('Items', [])]\n",
    "get_activity(QUERY_ID)\n",
    "    \n",
    "    "
   ]
  }
 ],
 "metadata": {
  "kernelspec": {
   "display_name": ".venv",
   "language": "python",
   "name": "python3"
  },
  "language_info": {
   "codemirror_mode": {
    "name": "ipython",
    "version": 3
   },
   "file_extension": ".py",
   "mimetype": "text/x-python",
   "name": "python",
   "nbconvert_exporter": "python",
   "pygments_lexer": "ipython3",
   "version": "3.9.6"
  },
  "orig_nbformat": 4
 },
 "nbformat": 4,
 "nbformat_minor": 2
}
