{
 "cells": [
  {
   "cell_type": "code",
   "execution_count": null,
   "metadata": {},
   "outputs": [
    {
     "ename": "",
     "evalue": "",
     "output_type": "error",
     "traceback": [
      "\u001b[1;31mThe kernel failed to start due to the missing module 'prompt_toolkit.formatted_text'. Consider installing this module.\n",
      "\u001b[1;31mClick <a href='https://aka.ms/kernelFailuresMissingModule'>here</a> for more info."
     ]
    }
   ],
   "source": [
    "import boto3\n",
    "import time\n",
    "import uuid\n",
    "from boto3.dynamodb.conditions import Key\n",
    "\n",
    "# For a Boto3 client.\n",
    "boto3.setup_default_session(profile_name='td-prod')\n",
    "\n",
    "dynamodb = boto3.resource(\"dynamodb\")\n",
    "table = dynamodb.Table('CoreStack-CoreTable97EB8292-OSGHIVMEFPBR')\n"
   ]
  },
  {
   "cell_type": "code",
   "execution_count": 9,
   "metadata": {},
   "outputs": [],
   "source": [
    "# tom-remoteca user_id \n",
    "toms_google_id = \"e3ad914e-dfc3-486f-ba28-2e5faab0fe5a\"\n",
    "muh_id = \"33613b5a-dca1-4752-8225-9ea270c5d657\"\n",
    "tom_rca_id = \"b5af90ee-bf35-4a66-a4ed-9ee7ee0591e6\"\n",
    "submitor_hack = tom_rca_id\n",
    "company_id = \"company_exampleid1234567\"\n",
    "q1 = {\n",
    "    \"summary\": \"Insurance Company ABC is preparing to implement IFRS 17 for its insurance contracts and is seeking technical guidance on the following aspects:\\r\\n\\r\\nTransition Approach: What is the most suitable transition approach for adopting IFRS 17 for the existing insurance contracts? The company wants to understand the available transition options, such as the full retrospective approach, modified retrospective approach, or the fair value approach, and assess the impact on financial statements and disclosures.\\r\\n\\r\\nData Requirements: Insurance Company ABC wants to know what data will be required for the implementation of IFRS 17. They have a vast amount of historical policyholder data and need clarity on how to organize, process, and validate the data to meet the requirements of the new standard.\\r\\n\\r\\nContractual Service Margin (CSM): The company seeks to understand the methodology for calculating the Contractual Service Margin (CSM) under IFRS 17. They are particularly interested in the inputs, assumptions, and techniques involved in estimating the CSM over the contract term.\\r\\n\\r\\nReinsurance Contracts: Insurance Company ABC has a significant reinsurance portfolio, and they want to know how to account for reinsurance contracts under IFRS 17. They seek clarity on the ceding and assuming accounting models and how to deal with the risk adjustment and cash flows for reinsurance contracts.\\r\\n\\r\\nPresentation and Disclosure: The company wants to ensure they meet the presentation and disclosure requirements of IFRS 17 accurately. They seek guidance on the content and format of financial statements and additional disclosures to be provided for insurance contracts.\\r\\n\\r\\nInsurance Company ABC is aware that implementing IFRS 17 is a complex process and seeks expert advice to ensure a smooth and compliant adoption of the standard. Can your web application provide assistance in addressing these queries and providing step-by-step guidance through the implementation process of IFRS 17?\",\n",
    "    \"date_submitted\": \"1691011280\",\n",
    "    \"advice_type\": \"Technical Accounting Advice\",\n",
    "    \"attachments\": [],\n",
    "    \"query_id\": \"query_99b8cf6d-b54b-4d35-aac4-c035b0c4bae1\",\n",
    "    \"company_id\": \"company_exampleid1234567\",\n",
    "    \"usecase_tags\": [\n",
    "        \"IFRS 17 - Insurance Contracts\"\n",
    "    ],\n",
    "    \"jurisdiction\": \"France\",\n",
    "    \"query_status\": \"Submitted\",\n",
    "    \"is_public\": \"true\",\n",
    "    \"query_title\": \"Transition Approach and Data Requirements for IFRS 17 Implementation\",\n",
    "    \"id\": \"query_99b8cf6d-b54b-4d35-aac4-c035b0c4bae1\",\n",
    "    \"submittor_id\":submitor_hack\n",
    "}\n",
    "q2 = {\n",
    "    \"summary\": \"Our Business XYZ is engaged in a long-term construction project where they are contracted to build a complex infrastructure facility for a client over several years. The project involves multiple performance obligations, and the contract price is significant. The revenue recognition patterns are not straightforward due to various milestones and progress assessments.\\r\\nThe finance team at Business XYZ wants to ensure compliance with IFRS 15 while recognizing revenue from this construction project. They are specifically concerned about the following aspects:\\r\\n\\r\\n1. How should they identify and separate performance obligations within the contract?\\r\\n2. What methods can they use to measure the progress of each performance obligation to determine when to recognize revenue?\\r\\n3. What are the criteria for revenue recognition at different stages of the project?\\r\\n4. How should they account for any contract modifications or change orders during the course of the project?\\r\\n5. What are the disclosure requirements in the financial statements related to this long-term construction project under IFRS 15?\\r\\n\\r\\nThe business seeks clarification on these specific issues to ensure that they are following the correct accounting treatment and adhering to the principles outlined in IFRS 15. Can your experts provide guidance on addressing these complexities and ensuring compliance with the standard for this particular scenario?\",\n",
    "    \"date_submitted\": \"1691010947\",\n",
    "    \"advice_type\": \"Technical Accounting Advice\",\n",
    "    \"attachments\": [\n",
    "        {\n",
    "            \"attachment_id\": \"attachment_39740a3e-8fb6-4546-92c2-9dbfe9db01dd\",\n",
    "            \"file_key\": \"queries/query_fd579934-87cc-419e-b8fe-1bb93a0e10d4/attachment_39740a3e-8fb6-4546-92c2-9dbfe9db01dd\",\n",
    "            \"file_name\": \"Contract xyz.pdf\"\n",
    "        }\n",
    "    ],\n",
    "    \"query_id\": \"query_fd579934-87cc-419e-b8fe-1bb93a0e10d4\",\n",
    "    \"company_id\": \"company_exampleid1234567\",\n",
    "    \"usecase_tags\": [\n",
    "        \"IFRS 15 - Revenue from Contracts with Customers\"\n",
    "    ],\n",
    "    \"jurisdiction\": \"United Kingdom\",\n",
    "    \"query_status\": \"Submitted\",\n",
    "    \"is_public\": \"true\",\n",
    "    \"query_title\": \"Revenue Recognition for Long-term Construction Project\",\n",
    "    \"id\": \"query_fd579934-87cc-419e-b8fe-1bb93a0e10d4\",\n",
    "    \"submittor_id\":submitor_hack\n",
    "}"
   ]
  },
  {
   "cell_type": "code",
   "execution_count": 5,
   "metadata": {},
   "outputs": [],
   "source": [
    "def create_notification(company_id, query, badge):\n",
    "    notification_id = f\"notification_{uuid.uuid4()}\"\n",
    "\n",
    "    primary_keys = {\n",
    "        \"PK\": f\"COMPANY#{company_id}#USER#{query['submittor_id']}\",\n",
    "        \"SK\": f\"NOTIFICATION#{notification_id}\",\n",
    "    }\n",
    "\n",
    "    notification = {\n",
    "        \"id\": notification_id,\n",
    "        \"is_public\": query['is_public'],\n",
    "        \"date\": int(time.time() * 1000),\n",
    "        \"badge\": badge,\n",
    "        \"query_title\": query['query_title'],\n",
    "        'query_id': query['id']\n",
    "    }\n",
    "\n",
    "    res = table.put_item(\n",
    "        Item={\n",
    "            **primary_keys,\n",
    "            \"notification\": notification\n",
    "        }\n",
    "    )\n",
    "    return notification"
   ]
  },
  {
   "cell_type": "code",
   "execution_count": 14,
   "metadata": {},
   "outputs": [
    {
     "data": {
      "text/plain": [
       "{'id': 'notification_9d5b6e4a-6083-44ff-b7d4-bdd078482dac',\n",
       " 'is_public': 'true',\n",
       " 'date': 1693024436615,\n",
       " 'badge': 'Ready to nibble',\n",
       " 'query_title': 'Transition Approach and Data Requirements for IFRS 17 Implementation',\n",
       " 'query_id': 'query_99b8cf6d-b54b-4d35-aac4-c035b0c4bae1'}"
      ]
     },
     "execution_count": 14,
     "metadata": {},
     "output_type": "execute_result"
    }
   ],
   "source": [
    "create_notification(company_id=company_id, query=q1, badge=\"Ready to nibble\")"
   ]
  },
  {
   "cell_type": "code",
   "execution_count": 26,
   "metadata": {},
   "outputs": [
    {
     "data": {
      "text/plain": [
       "{'type': 'comment',\n",
       " 'comment': 'asdfawf',\n",
       " 'from': '31dff',\n",
       " 'id': 'activity_01H4TS4Q72GPX414SFXD37X38Z',\n",
       " 'query_id': 'query_f888990e-1606-410f-aeb7-85262fef7d5e'}"
      ]
     },
     "execution_count": 26,
     "metadata": {},
     "output_type": "execute_result"
    }
   ],
   "source": [
    "activity_1 = {\"type\": \"comment\", \"comment\":\"lemons\", \"from\": \"jeff\"}\n",
    "activity_2 = {\"type\": \"comment\", \"comment\":\"asdfawf\", \"from\": \"31dff\"}\n",
    "import ulid\n",
    "\n",
    "def create_query_activity(query_id, activity):\n",
    "    activity_id = f\"activity_{str(ulid.new())}\"\n",
    "    \n",
    "    activity['id'] = activity_id\n",
    "    activity['query_id'] = query_id\n",
    "    \n",
    "    res = table.put_item(\n",
    "        Item={\n",
    "            'PK': f\"QUERY#{query_id}\",\n",
    "            'SK': f\"ACTIVITY#{activity_id}\",\n",
    "            'activity': activity\n",
    "        }\n",
    "    )\n",
    "    return activity\n",
    "\n",
    "create_query_activity(QUERY_ID, activity_2)"
   ]
  },
  {
   "cell_type": "code",
   "execution_count": 30,
   "metadata": {},
   "outputs": [
    {
     "data": {
      "text/plain": [
       "[{'comment': 'lemons',\n",
       "  'from': 'jeff',\n",
       "  'id': 'activity_01H4TQ69N7M2342MMGKNBCTSTN',\n",
       "  'type': 'comment',\n",
       "  'query_id': 'query_f888990e-1606-410f-aeb7-85262fef7d5e'},\n",
       " {'comment': 'lemons',\n",
       "  'from': 'jeff',\n",
       "  'id': 'activity_01H4TQ6R36QC3H28S1DAYWQ5Q7',\n",
       "  'type': 'comment',\n",
       "  'query_id': 'query_f888990e-1606-410f-aeb7-85262fef7d5e'},\n",
       " {'comment': 'asdfawf',\n",
       "  'from': '31dff',\n",
       "  'id': 'activity_01H4TQ7569HGXKRP6F8149D8SG',\n",
       "  'type': 'comment',\n",
       "  'query_id': 'query_f888990e-1606-410f-aeb7-85262fef7d5e'},\n",
       " {'comment': 'asdfawf',\n",
       "  'from': '31dff',\n",
       "  'id': 'activity_01H4TS4Q72GPX414SFXD37X38Z',\n",
       "  'type': 'comment',\n",
       "  'query_id': 'query_f888990e-1606-410f-aeb7-85262fef7d5e'}]"
      ]
     },
     "execution_count": 30,
     "metadata": {},
     "output_type": "execute_result"
    }
   ],
   "source": [
    "def get_activity(query_id):\n",
    "    res = table.query(\n",
    "        KeyConditionExpression=Key('PK').eq(f\"QUERY#{query_id}\") & Key('SK').begins_with(f\"ACTIVITY#\")\n",
    "    )\n",
    "    return [i['activity'] for i in res.get('Items', [])]\n",
    "get_activity(QUERY_ID)\n",
    "    \n",
    "    "
   ]
  }
 ],
 "metadata": {
  "kernelspec": {
   "display_name": ".venv",
   "language": "python",
   "name": "python3"
  },
  "language_info": {
   "codemirror_mode": {
    "name": "ipython",
    "version": 3
   },
   "file_extension": ".py",
   "mimetype": "text/x-python",
   "name": "python",
   "nbconvert_exporter": "python",
   "pygments_lexer": "ipython3",
   "version": "3.9.6"
  },
  "orig_nbformat": 4
 },
 "nbformat": 4,
 "nbformat_minor": 2
}
